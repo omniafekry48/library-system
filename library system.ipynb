{
 "cells": [
  {
   "cell_type": "code",
   "execution_count": 1,
   "metadata": {},
   "outputs": [],
   "source": [
    "class Library:\n",
    "    def __init__(self,list_of_books,library_name):\n",
    "        if type(list_of_books)== list:\n",
    "            self.list_of_books=list_of_books\n",
    "        self.library_name=library_name\n",
    "        self.lended_books={}\n",
    "        \n",
    "    def display(self):\n",
    "        for book in self.list_of_books:\n",
    "            print(book,end=' ')\n",
    "    \n",
    "    def lend_book(self,book_name,user_name):\n",
    "        if book_name in self.list_of_books:\n",
    "            if book_name not in self.lended_books.keys():\n",
    "                print('trere is ur book')\n",
    "                self.lended_books[book_name]=user_name\n",
    "            else:\n",
    "                print('this book is lended')\n",
    "        else:\n",
    "            print('this book is\\'nt found')\n",
    "    \n",
    "    def add_book(self,book_name):\n",
    "        self.list_of_books.append(book_name) \n",
    "    \n",
    "    def return_book(self,book_name):\n",
    "        del self.lended_books[book_name]\n",
    "        "
   ]
  },
  {
   "cell_type": "code",
   "execution_count": 2,
   "metadata": {},
   "outputs": [],
   "source": [
    "Harry=Library(['Python', 'Rich Daddy Poor Daddy', 'Harry Potter', 'C++ Basics', 'Algorithms by CLRS'],'CodeWithHarry')"
   ]
  },
  {
   "cell_type": "code",
   "execution_count": 3,
   "metadata": {},
   "outputs": [
    {
     "name": "stdout",
     "output_type": "stream",
     "text": [
      "\t CodeWithHarry \n",
      " Welcom to ur library\n",
      " there is ur options: \n",
      " \n",
      "          \t1-display\n",
      "\n",
      "          \t2-lend_book\n",
      "\n",
      "          \t3-add_book\n",
      "\n",
      "          \t4-return_book\n",
      "\n",
      "          \n",
      "Enter ur option: 2\n",
      "Enter ur name: omnia\n",
      "Enter book name u want: Harry Potter\n",
      "trere is ur book\n",
      "do u want to continue? (y/n): n\n"
     ]
    }
   ],
   "source": [
    "while True:\n",
    "    print(f\"\"\"\\t {Harry.library_name} \\n Welcom to ur library\\n there is ur options: \\n \n",
    "          \\t1-display\\n\n",
    "          \\t2-lend_book\\n\n",
    "          \\t3-add_book\\n\n",
    "          \\t4-return_book\\n\n",
    "          \"\"\")\n",
    "    op=int(input('Enter ur option: '))\n",
    "    \n",
    "    if op==1:\n",
    "        Harry.display()\n",
    "    elif op==2:\n",
    "        user_name=input('Enter ur name: ')\n",
    "        book_name=input('Enter book name u want: ')\n",
    "        Harry.lend_book(book_name,user_name)\n",
    "    elif op==3:\n",
    "        book_name=input('enter book name: ')\n",
    "        Harry.add_book(book_name)\n",
    "    elif op==4:\n",
    "          book_name=input('Enter ur book name: ')\n",
    "          Harry.return_book(book_name)\n",
    "    else:\n",
    "        print('wrong option')\n",
    "    choice=input('do u want to continue? (y/n): ')\n",
    "    \n",
    "    if choice=='n':\n",
    "          break"
   ]
  },
  {
   "cell_type": "code",
   "execution_count": null,
   "metadata": {},
   "outputs": [],
   "source": []
  }
 ],
 "metadata": {
  "kernelspec": {
   "display_name": "Python 3",
   "language": "python",
   "name": "python3"
  },
  "language_info": {
   "codemirror_mode": {
    "name": "ipython",
    "version": 3
   },
   "file_extension": ".py",
   "mimetype": "text/x-python",
   "name": "python",
   "nbconvert_exporter": "python",
   "pygments_lexer": "ipython3",
   "version": "3.7.6"
  }
 },
 "nbformat": 4,
 "nbformat_minor": 4
}
